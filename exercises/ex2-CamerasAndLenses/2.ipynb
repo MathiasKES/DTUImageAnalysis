{
 "cells": [
  {
   "cell_type": "markdown",
   "id": "e4f8a755",
   "metadata": {},
   "source": [
    "# Exercise 1\n",
    "It can be calculated using $\\tan(\\theta) = \\frac{\\text{opposite}}{\\text{adjacent}}=\\frac{b}{a}$.\n",
    "\n",
    "Thus: $$\\theta=\\arctan\\left(\\frac{b}{a}\\right)$$"
   ]
  },
  {
   "cell_type": "code",
   "execution_count": 3,
   "id": "96025c28",
   "metadata": {},
   "outputs": [
    {
     "data": {
      "text/plain": [
       "73.30075576600638"
      ]
     },
     "execution_count": 3,
     "metadata": {},
     "output_type": "execute_result"
    }
   ],
   "source": [
    "import math\n",
    "\n",
    "a = 10\n",
    "b = 3\n",
    "math.atan2(a, b) * 180 / math.pi"
   ]
  },
  {
   "cell_type": "markdown",
   "id": "fd91e37d",
   "metadata": {},
   "source": [
    "Thus $73.3\\degree$"
   ]
  },
  {
   "cell_type": "markdown",
   "id": "3cceb902",
   "metadata": {},
   "source": [
    "# Exercise 2"
   ]
  },
  {
   "cell_type": "code",
   "execution_count": 4,
   "id": "7f693478",
   "metadata": {},
   "outputs": [],
   "source": [
    "def camera_b_distance(f, g):\n",
    "    \"\"\"\n",
    "    camera_b_distance returns the distance (b) where the CCD should be placed\n",
    "    when the object distance (g) and the focal length (f) are given\n",
    "    :param f: Focal length\n",
    "    :param g: Object distance\n",
    "    :return: b, the distance where the CCD should be placed\n",
    "    \"\"\"\n",
    "    # 1/g + 1/b = 1/f\n",
    "    # 1/b = 1/f - 1/g\n",
    "    # 1 = (1/f - 1/g)*b\n",
    "    # b = 1 / (1/f - 1/g)\n",
    "    return 1 / (1/f - 1/g)"
   ]
  },
  {
   "cell_type": "markdown",
   "id": "206a0daa",
   "metadata": {},
   "source": [
    "We will be using mm"
   ]
  },
  {
   "cell_type": "code",
   "execution_count": 5,
   "id": "f563fe68",
   "metadata": {},
   "outputs": [
    {
     "data": {
      "text/plain": [
       "{100: 17.647058823529413,\n",
       " 1000: 15.228426395939087,\n",
       " 5000: 15.045135406218657,\n",
       " 15000: 15.015015015015017}"
      ]
     },
     "execution_count": 5,
     "metadata": {},
     "output_type": "execute_result"
    }
   ],
   "source": [
    "f = 15 # mm\n",
    "g = [100, 1000, 5000, 15000] # mm\n",
    "b = {g_: camera_b_distance(f, g_) for g_ in g}\n",
    "b"
   ]
  },
  {
   "cell_type": "markdown",
   "id": "36d88121",
   "metadata": {},
   "source": [
    "**It should be placed at respectively 17.65, 15.23, 15.05 and 15.02 mm.**\n",
    "\n",
    "When object distance is increased the position of CCD gets decreasingly smaller."
   ]
  },
  {
   "cell_type": "markdown",
   "id": "84f3adff",
   "metadata": {},
   "source": [
    "# Exercise 3"
   ]
  },
  {
   "cell_type": "markdown",
   "id": "2dc65660",
   "metadata": {},
   "source": [
    "1. \n",
    "$$\\frac{1}{g} + \\frac{1}{b} = \\frac{1}{f}$$\n",
    "$$f=5\\mathrm{mm},\\quad g=5000\\mathrm{mm}$$\n",
    "$$\\Rightarrow b=\\frac{1}{\\frac{1}{f}-\\frac{1}{g}} = 5.005\\mathrm{mm}$$\n",
    "\n",
    "2. \n",
    "$$\\frac{b}{B}=\\frac{g}{G}$$\n",
    "$$\\Rightarrow B=\\frac{b}{\\frac{g}{G}} = \\frac{Gb}{g} = 1.8018\\mathrm{mm}$$\n",
    "\n",
    "3. \n",
    "$$\\frac{6.4\\mathrm{mm}}{640\\mathrm{pixel}} =0.01\\mathrm{mm}/\\mathrm{pixel}$$\n",
    "\n",
    "4. \n",
    "$$1.8018\\mathrm{mm}/(0.01\\mathrm{mm}/\\mathrm{pixel}) = 180.18\\mathrm{pixel}$$\n",
    "\n",
    "5. \n",
    "$$\\mathrm{HFOV}=2\\arctan\\left( \\frac{\\text{sensor width}}{2f} \\right) = 2\\arctan\\left( \\frac{6.4}{10} \\right)$$\n",
    "$$\\mathrm{VFOV}=2\\arctan\\left( \\frac{\\text{sensor height}}{2f} \\right) = 2\\arctan\\left( \\frac{4.8}{10} \\right)$$"
   ]
  },
  {
   "cell_type": "code",
   "execution_count": 6,
   "id": "0f222a55",
   "metadata": {},
   "outputs": [
    {
     "name": "stdout",
     "output_type": "stream",
     "text": [
      "HFOV = 65.23848614238565 degrees\n",
      "VFOV = 51.28201164861056 degrees\n"
     ]
    }
   ],
   "source": [
    "print(\"HFOV = \" + str(2*math.atan(6.4/10)*180/math.pi) + \" degrees\")\n",
    "print(\"VFOV = \" + str(2*math.atan(4.8/10)*180/math.pi) + \" degrees\")"
   ]
  }
 ],
 "metadata": {
  "kernelspec": {
   "display_name": "02503",
   "language": "python",
   "name": "python3"
  },
  "language_info": {
   "codemirror_mode": {
    "name": "ipython",
    "version": 3
   },
   "file_extension": ".py",
   "mimetype": "text/x-python",
   "name": "python",
   "nbconvert_exporter": "python",
   "pygments_lexer": "ipython3",
   "version": "3.13.5"
  }
 },
 "nbformat": 4,
 "nbformat_minor": 5
}
