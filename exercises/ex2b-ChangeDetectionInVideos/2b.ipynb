{
 "cells": [
  {
   "cell_type": "markdown",
   "id": "66269eeb",
   "metadata": {},
   "source": [
    "# Exercise 2\n",
    "```python\n",
    "cv2.cvtColor(frame, cv2.COLOR_BGR2GRAY)\n",
    "```\n",
    "Is used to convert from color to gray-scale."
   ]
  },
  {
   "cell_type": "markdown",
   "id": "0dc3a4d4",
   "metadata": {},
   "source": [
    "# Exercise 4\n",
    "- Changing alpha changes the image \"decay\", higher values means slower transitions while lower has more immediate effects.\n",
    "- Changing T changes the threshold at which changes are detected. For higher values, more significant changes to the input image are required.\n",
    "- Changing A sets the amount of changes in foreground pixels needed in order to raise the alarm."
   ]
  }
 ],
 "metadata": {
  "kernelspec": {
   "display_name": "02503",
   "language": "python",
   "name": "python3"
  },
  "language_info": {
   "codemirror_mode": {
    "name": "ipython",
    "version": 3
   },
   "file_extension": ".py",
   "mimetype": "text/x-python",
   "name": "python",
   "nbconvert_exporter": "python",
   "pygments_lexer": "ipython3",
   "version": "3.13.7"
  }
 },
 "nbformat": 4,
 "nbformat_minor": 5
}
