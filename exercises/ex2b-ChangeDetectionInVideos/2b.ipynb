{
 "cells": [
  {
   "cell_type": "markdown",
   "id": "66269eeb",
   "metadata": {},
   "source": [
    "# Exercise 2\n",
    "```python\n",
    "cv2.cvtColor(frame, cv2.COLOR_BGR2GRAY)\n",
    "```\n",
    "Is used to convert from color to gray-scale."
   ]
  }
 ],
 "metadata": {
  "language_info": {
   "name": "python"
  }
 },
 "nbformat": 4,
 "nbformat_minor": 5
}
